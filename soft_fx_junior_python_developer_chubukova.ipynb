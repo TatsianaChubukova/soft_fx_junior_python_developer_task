{
 "cells": [
  {
   "cell_type": "markdown",
   "metadata": {},
   "source": [
    "**Тестовое задание**\n",
    "\n",
    "**Вакансия -  Junior Python Developer**\n",
    "\n",
    "**Автор - Татьяна Чубукова**\n"
   ]
  },
  {
   "cell_type": "markdown",
   "metadata": {},
   "source": [
    "- Необходимо реализовать функцию со следующим интерфейсом:\n",
    "\n",
    "- def update_matrix(matrix: numpy.ndarray, S: float, Cf: float, unit: str) -> numpy.ndarray\n",
    "\tif unit == ”1X&&yes”:\n",
    "\t   pass\n",
    "\telif …\n",
    "\n",
    "- В метод передаются unit [1X&&yes, 1X&&no, 12&&yes, 12&&no, 2X&&yes, 2X&&no], S=float, Cf=float, matrix – двумерная нулевая мат рица 5*5.\n",
    "- (1X&&yes) - элементы, для которых (номер строки>=номер столбца)&&(номер строки > 0)&&(номер столбца > 0) уменьшаются на S*Cf. Остальные увеличиваются на S.\n",
    "- (1X&&no) - элементы, для которых (номер строки<номер столбца)||(номер строки==0)||(н омер столбца == 0) уменьшаются на S*Cf. Остальные увеличиваются на S.\n",
    "- (12&&yes) - элементы, для которых (номер строки!=номер столбца)&&(номер строки > 0)&&(номер столбца > 0) уменьшаются на S*Cf. Остальные увеличиваются на S.\n",
    "- (12&&no) - элементы, для которых (номер строки==номер столбца)||(номер строки ==0)        (номер столбца == 0) уменьшаются на S*Cf. Остальные увеличиваются на S.\n",
    "- (2X&&yes) - элементы, для которых (номер строки<=номер столбца)&&(номер строки > 0)&&(номер столбца > 0) уменьшаются на S*Cf. Остальные увеличиваются на S.\n",
    "- (2X&&no) - элементы, для которых (номер строки>номер столбца)||(номер строки == 0) || (номер столбца == 0) уменьшаются на S*Cf. Остальные увеличиваются на S.\n",
    "\n",
    "- && - должны выполняться обо услови (*)\n",
    "- || - должно выполняться любое условие (+)\n",
    "- Использовать numpy.\n",
    "\n"
   ]
  },
  {
   "cell_type": "markdown",
   "metadata": {},
   "source": [
    "**Подключение библиотек**"
   ]
  },
  {
   "cell_type": "code",
   "execution_count": 1,
   "metadata": {},
   "outputs": [],
   "source": [
    "import pandas as pd\n",
    "#import matplotlib.pyplot as plt\n",
    "import numpy as np\n",
    "#import seaborn as sb\n",
    "#import math as mt\n",
    "import timeit\n"
   ]
  },
  {
   "cell_type": "markdown",
   "metadata": {},
   "source": [
    "**Создание функции**"
   ]
  },
  {
   "cell_type": "code",
   "execution_count": 2,
   "metadata": {},
   "outputs": [],
   "source": [
    "def update_matrix(matrix: np.ndarray, S: float, Cf: float, unit: str): \n",
    "    C=S*Cf\n",
    "    if unit == '1X&&yes':\n",
    "        for i in range(5):\n",
    "            for j in range(5):\n",
    "                if (i >= j) & (j>0):\n",
    "                    \n",
    "                    matrix[i][j] =(matrix[i][j] - C)\n",
    "                    \n",
    "                else:\n",
    "                    matrix[i][j] = (matrix[i][j] + S)\n",
    "                   \n",
    "            \n",
    "        \n",
    "    elif unit == '1X&&no':\n",
    "        \n",
    "        for i in range(5):\n",
    "            for j in range(5):\n",
    "                if (i < j) | (i == 0) | (j == 0):\n",
    "                \n",
    "                    matrix[i][j] = (matrix[i][j] - C)\n",
    "                    \n",
    "                else:\n",
    "                    matrix[i][j] = (matrix[i][j] + S)\n",
    "         \n",
    "        \n",
    "    elif unit == '12&&yes':\n",
    "        \n",
    "        for i in range(5):\n",
    "            for j in range(5):\n",
    "                if (i != j) & (i > 0) & (j > 0):\n",
    "                \n",
    "                    matrix[i][j] = (matrix[i][j] - C)\n",
    "                    \n",
    "                else:\n",
    "                    matrix[i][j] = (matrix[i][j] + S)\n",
    "        print('unit = 12&&yes')\n",
    "       \n",
    "    \n",
    "    elif unit == '12&&no':\n",
    "        \n",
    "        for i in range(5):\n",
    "            for j in range(5):\n",
    "                if (i == j) | ((i + j) == 0):\n",
    "                \n",
    "                    matrix[i][j] = (matrix[i][j] - C)\n",
    "                    \n",
    "                else:\n",
    "                    matrix[i][j] = (matrix[i][j] + S)\n",
    "        \n",
    "        \n",
    "    elif unit == '2X&&yes':\n",
    "        \n",
    "        for i in range(5):\n",
    "            for j in range(5):\n",
    "                if (i <= j) & (i > 0):\n",
    "                \n",
    "                    matrix[i][j] = (matrix[i][j] - C)\n",
    "                    \n",
    "                else:\n",
    "                    matrix[i][j] = (matrix[i][j] + S)\n",
    "        \n",
    "        \n",
    "    elif unit == '2X&&no':\n",
    "        \n",
    "        for i in range(5):\n",
    "            for j in range(5):\n",
    "                if (i > j) | (i == 0) | (j == 0):\n",
    "                \n",
    "                    matrix[i][j] = (matrix[i][j] - C)\n",
    "                    \n",
    "                else:\n",
    "                    matrix[i][j] = (matrix[i][j] + S)\n",
    "        \n",
    "    else:\n",
    "        print('incorrect data')\n",
    "    return matrix"
   ]
  },
  {
   "cell_type": "markdown",
   "metadata": {},
   "source": [
    "**Создание двумерной нулевой матрицы**"
   ]
  },
  {
   "cell_type": "code",
   "execution_count": 3,
   "metadata": {},
   "outputs": [
    {
     "name": "stdout",
     "output_type": "stream",
     "text": [
      "[[0. 0. 0. 0. 0.]\n",
      " [0. 0. 0. 0. 0.]\n",
      " [0. 0. 0. 0. 0.]\n",
      " [0. 0. 0. 0. 0.]\n",
      " [0. 0. 0. 0. 0.]]\n"
     ]
    },
    {
     "data": {
      "text/plain": [
       "numpy.ndarray"
      ]
     },
     "execution_count": 3,
     "metadata": {},
     "output_type": "execute_result"
    }
   ],
   "source": [
    "#двумерная нулевая матрица 5*5\n",
    "m1=np.zeros((5, 5))\n",
    "m2=np.zeros((5, 5))\n",
    "m3=np.zeros((5, 5))\n",
    "m4=np.zeros((5, 5))\n",
    "m5=np.zeros((5, 5))\n",
    "m6=np.zeros((5, 5))\n",
    "m7=np.zeros((5, 5))\n",
    "m8=np.zeros((5, 5))\n",
    "\n",
    "print(m1)\n",
    "type(m1)"
   ]
  },
  {
   "cell_type": "markdown",
   "metadata": {},
   "source": [
    "**Тестирование работы функции**"
   ]
  },
  {
   "cell_type": "code",
   "execution_count": 4,
   "metadata": {},
   "outputs": [
    {
     "data": {
      "text/plain": [
       "array([[  3.,   3.,   3.,   3.,   3.],\n",
       "       [  3., -12.,   3.,   3.,   3.],\n",
       "       [  3., -12., -12.,   3.,   3.],\n",
       "       [  3., -12., -12., -12.,   3.],\n",
       "       [  3., -12., -12., -12., -12.]])"
      ]
     },
     "execution_count": 4,
     "metadata": {},
     "output_type": "execute_result"
    }
   ],
   "source": [
    "update_matrix (m1,3,4,'1X&&yes') \n"
   ]
  },
  {
   "cell_type": "code",
   "execution_count": 5,
   "metadata": {},
   "outputs": [
    {
     "data": {
      "text/plain": [
       "array([[-12., -12., -12., -12., -12.],\n",
       "       [-12.,   3., -12., -12., -12.],\n",
       "       [-12.,   3.,   3., -12., -12.],\n",
       "       [-12.,   3.,   3.,   3., -12.],\n",
       "       [-12.,   3.,   3.,   3.,   3.]])"
      ]
     },
     "execution_count": 5,
     "metadata": {},
     "output_type": "execute_result"
    }
   ],
   "source": [
    "update_matrix (m2,3,4,'1X&&no')\n"
   ]
  },
  {
   "cell_type": "code",
   "execution_count": 6,
   "metadata": {},
   "outputs": [
    {
     "name": "stdout",
     "output_type": "stream",
     "text": [
      "unit = 12&&yes\n"
     ]
    },
    {
     "data": {
      "text/plain": [
       "array([[  3.,   3.,   3.,   3.,   3.],\n",
       "       [  3.,   3., -12., -12., -12.],\n",
       "       [  3., -12.,   3., -12., -12.],\n",
       "       [  3., -12., -12.,   3., -12.],\n",
       "       [  3., -12., -12., -12.,   3.]])"
      ]
     },
     "execution_count": 6,
     "metadata": {},
     "output_type": "execute_result"
    }
   ],
   "source": [
    "update_matrix (m3,3,4,'12&&yes')"
   ]
  },
  {
   "cell_type": "code",
   "execution_count": 7,
   "metadata": {},
   "outputs": [
    {
     "data": {
      "text/plain": [
       "array([[-12.,   3.,   3.,   3.,   3.],\n",
       "       [  3., -12.,   3.,   3.,   3.],\n",
       "       [  3.,   3., -12.,   3.,   3.],\n",
       "       [  3.,   3.,   3., -12.,   3.],\n",
       "       [  3.,   3.,   3.,   3., -12.]])"
      ]
     },
     "execution_count": 7,
     "metadata": {},
     "output_type": "execute_result"
    }
   ],
   "source": [
    "update_matrix (m4,3,4,'12&&no')"
   ]
  },
  {
   "cell_type": "code",
   "execution_count": 8,
   "metadata": {},
   "outputs": [
    {
     "data": {
      "text/plain": [
       "array([[  3.,   3.,   3.,   3.,   3.],\n",
       "       [  3., -12., -12., -12., -12.],\n",
       "       [  3.,   3., -12., -12., -12.],\n",
       "       [  3.,   3.,   3., -12., -12.],\n",
       "       [  3.,   3.,   3.,   3., -12.]])"
      ]
     },
     "execution_count": 8,
     "metadata": {},
     "output_type": "execute_result"
    }
   ],
   "source": [
    "update_matrix (m5,3,4,'2X&&yes')"
   ]
  },
  {
   "cell_type": "code",
   "execution_count": 9,
   "metadata": {},
   "outputs": [
    {
     "data": {
      "text/plain": [
       "array([[-12., -12., -12., -12., -12.],\n",
       "       [-12.,   3.,   3.,   3.,   3.],\n",
       "       [-12., -12.,   3.,   3.,   3.],\n",
       "       [-12., -12., -12.,   3.,   3.],\n",
       "       [-12., -12., -12., -12.,   3.]])"
      ]
     },
     "execution_count": 9,
     "metadata": {},
     "output_type": "execute_result"
    }
   ],
   "source": [
    "update_matrix (m6,3,4,'2X&&no')"
   ]
  },
  {
   "cell_type": "code",
   "execution_count": 10,
   "metadata": {},
   "outputs": [
    {
     "name": "stdout",
     "output_type": "stream",
     "text": [
      "incorrect data\n"
     ]
    },
    {
     "data": {
      "text/plain": [
       "array([[0., 0., 0., 0., 0.],\n",
       "       [0., 0., 0., 0., 0.],\n",
       "       [0., 0., 0., 0., 0.],\n",
       "       [0., 0., 0., 0., 0.],\n",
       "       [0., 0., 0., 0., 0.]])"
      ]
     },
     "execution_count": 10,
     "metadata": {},
     "output_type": "execute_result"
    }
   ],
   "source": [
    "update_matrix (m7,3,4,'   2X&&no   ')"
   ]
  },
  {
   "cell_type": "code",
   "execution_count": 11,
   "metadata": {},
   "outputs": [
    {
     "data": {
      "text/plain": [
       "array([[-12., -12., -12., -12., -12.],\n",
       "       [-12.,  -3.,  -3.,  -3.,  -3.],\n",
       "       [-12., -12.,  -3.,  -3.,  -3.],\n",
       "       [-12., -12., -12.,  -3.,  -3.],\n",
       "       [-12., -12., -12., -12.,  -3.]])"
      ]
     },
     "execution_count": 11,
     "metadata": {},
     "output_type": "execute_result"
    }
   ],
   "source": [
    "update_matrix (m8,-3,-4,'2X&&no')"
   ]
  },
  {
   "cell_type": "markdown",
   "metadata": {},
   "source": [
    "**Тест с единичной матрицей**"
   ]
  },
  {
   "cell_type": "code",
   "execution_count": 12,
   "metadata": {},
   "outputs": [
    {
     "name": "stdout",
     "output_type": "stream",
     "text": [
      "[[1. 0. 0. 0. 0.]\n",
      " [0. 1. 0. 0. 0.]\n",
      " [0. 0. 1. 0. 0.]\n",
      " [0. 0. 0. 1. 0.]\n",
      " [0. 0. 0. 0. 1.]]\n"
     ]
    }
   ],
   "source": [
    "Z = np.eye(5)\n",
    "print(Z)"
   ]
  },
  {
   "cell_type": "code",
   "execution_count": 13,
   "metadata": {},
   "outputs": [
    {
     "data": {
      "text/plain": [
       "array([[  4.,   3.,   3.,   3.,   3.],\n",
       "       [  3., -11.,   3.,   3.,   3.],\n",
       "       [  3., -12., -11.,   3.,   3.],\n",
       "       [  3., -12., -12., -11.,   3.],\n",
       "       [  3., -12., -12., -12., -11.]])"
      ]
     },
     "execution_count": 13,
     "metadata": {},
     "output_type": "execute_result"
    }
   ],
   "source": [
    "update_matrix (Z,3,4,'1X&&yes')"
   ]
  },
  {
   "cell_type": "code",
   "execution_count": 14,
   "metadata": {},
   "outputs": [
    {
     "name": "stdout",
     "output_type": "stream",
     "text": [
      "unit = 12&&yes\n",
      "0.0064821999999997715\n"
     ]
    }
   ],
   "source": [
    "import time\n",
    "t = time.perf_counter()\n",
    "for param in ['1X&&yes', '1X&&no', '12&&yes', '12&&no', '2X&&yes', '2X&&no']:\n",
    "    update_matrix(m1,3,4,param)\n",
    "print(time.perf_counter()-t)\n"
   ]
  },
  {
   "cell_type": "code",
   "execution_count": 15,
   "metadata": {},
   "outputs": [
    {
     "name": "stdout",
     "output_type": "stream",
     "text": [
      "unit = 12&&yes\n",
      "0.0011545999999995615\n"
     ]
    }
   ],
   "source": [
    "import time\n",
    "t = time.perf_counter()\n",
    "for param in ['1X&&yes', '1X&&no', '12&&yes', '12&&no', '2X&&yes', '2X&&no']:\n",
    "    update_matrix(m1,3,4,param)\n",
    "print(time.perf_counter()-t)"
   ]
  }
 ],
 "metadata": {
  "kernelspec": {
   "display_name": "Python 3",
   "language": "python",
   "name": "python3"
  },
  "language_info": {
   "codemirror_mode": {
    "name": "ipython",
    "version": 3
   },
   "file_extension": ".py",
   "mimetype": "text/x-python",
   "name": "python",
   "nbconvert_exporter": "python",
   "pygments_lexer": "ipython3",
   "version": "3.7.6"
  }
 },
 "nbformat": 4,
 "nbformat_minor": 4
}
